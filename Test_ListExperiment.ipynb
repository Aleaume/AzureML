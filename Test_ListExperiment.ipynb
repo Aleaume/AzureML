{
  "cells": [
    {
      "cell_type": "code",
      "source": [
        "from azureml.core import Workspace\r\n",
        "\r\n",
        "ws = Workspace.from_config()"
      ],
      "outputs": [],
      "execution_count": 5,
      "metadata": {
        "gather": {
          "logged": 1631370940790
        }
      }
    },
    {
      "cell_type": "code",
      "source": [
        "from  azureml.core.experiment import Experiment\r\n",
        "list_experiments = Experiment.list(ws)\r\n",
        "\r\n",
        "print(list_experiments)"
      ],
      "outputs": [
        {
          "output_type": "stream",
          "name": "stdout",
          "text": "[Experiment(Name: NYCTaxi_Tutorial_Pipelines,\nWorkspace: quick-starts-ws-157777), Experiment(Name: placeholder,\nWorkspace: quick-starts-ws-157777)]\n"
        }
      ],
      "execution_count": 10,
      "metadata": {
        "jupyter": {
          "source_hidden": false,
          "outputs_hidden": false
        },
        "nteract": {
          "transient": {
            "deleting": false
          }
        },
        "gather": {
          "logged": 1631371049738
        }
      }
    },
    {
      "cell_type": "code",
      "source": [
        "list_exp_active = Experiment.list(ws,view_type=\"ActiveOnly\")\r\n",
        "print(list_exp_active)"
      ],
      "outputs": [
        {
          "output_type": "stream",
          "name": "stdout",
          "text": "[Experiment(Name: NYCTaxi_Tutorial_Pipelines,\nWorkspace: quick-starts-ws-157777), Experiment(Name: placeholder,\nWorkspace: quick-starts-ws-157777)]\n"
        }
      ],
      "execution_count": 12,
      "metadata": {
        "jupyter": {
          "source_hidden": false,
          "outputs_hidden": false
        },
        "nteract": {
          "transient": {
            "deleting": false
          }
        },
        "gather": {
          "logged": 1631371336523
        }
      }
    },
    {
      "cell_type": "code",
      "source": [
        "experiment_taxis = Experiment(ws,\"NYCTaxi_Tutorial_Pipelines\")\r\n",
        "list_experiment_runs = Experiment.get_runs(experiment_taxis)\r\n",
        "\r\n",
        "print(list_experiment_runs)"
      ],
      "outputs": [
        {
          "output_type": "stream",
          "name": "stdout",
          "text": "<generator object Run._rehydrate_runs at 0x7f51640cbeb8>\n"
        }
      ],
      "execution_count": 18,
      "metadata": {
        "jupyter": {
          "source_hidden": false,
          "outputs_hidden": false
        },
        "nteract": {
          "transient": {
            "deleting": false
          }
        },
        "gather": {
          "logged": 1631372041349
        }
      }
    }
  ],
  "metadata": {
    "kernelspec": {
      "name": "python3-azureml",
      "language": "python",
      "display_name": "Python 3.6 - AzureML"
    },
    "language_info": {
      "name": "python",
      "version": "3.6.9",
      "mimetype": "text/x-python",
      "codemirror_mode": {
        "name": "ipython",
        "version": 3
      },
      "pygments_lexer": "ipython3",
      "nbconvert_exporter": "python",
      "file_extension": ".py"
    },
    "kernel_info": {
      "name": "python3-azureml"
    },
    "nteract": {
      "version": "nteract-front-end@1.0.0"
    }
  },
  "nbformat": 4,
  "nbformat_minor": 2
}