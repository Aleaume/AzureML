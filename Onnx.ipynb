{
 "cells": [
  {
   "cell_type": "markdown",
   "metadata": {
    "editable": true
   },
   "source": [
    "# Practicing with ONNX"
   ]
  },
  {
   "cell_type": "markdown",
   "metadata": {
    "editable": true
   },
   "source": [
    "First we download the CoreML model. We use the CoreML model from [Matthijs Hollemans's tutorial](https://github.com/hollance/YOLO-CoreML-MPSNNGraph)."
   ]
  },
  {
   "cell_type": "code",
   "execution_count": 1,
   "metadata": {
    "editable": true
   },
   "outputs": [
    {
     "data": {
      "text/plain": [
       "('TinyYOLO.mlmodel', <http.client.HTTPMessage at 0x7f967c874898>)"
      ]
     },
     "execution_count": 1,
     "metadata": {},
     "output_type": "execute_result"
    }
   ],
   "source": [
    "import urllib.request\n",
    "\n",
    "coreml_model_url = \"https://github.com/hollance/YOLO-CoreML-MPSNNGraph/raw/master/TinyYOLO-CoreML/TinyYOLO-CoreML/TinyYOLO.mlmodel\"\n",
    "urllib.request.urlretrieve(coreml_model_url, filename=\"TinyYOLO.mlmodel\")"
   ]
  },
  {
   "cell_type": "markdown",
   "metadata": {
    "editable": true
   },
   "source": [
    "Then we use ONNXMLTools to convert the model."
   ]
  },
  {
   "cell_type": "code",
   "execution_count": 2,
   "metadata": {
    "editable": true
   },
   "outputs": [
    {
     "name": "stdout",
     "output_type": "stream",
     "text": [
      "Collecting onnxmltools==1.0.0.0\n",
      "\u001b[?25l  Downloading https://files.pythonhosted.org/packages/43/4f/021c682822f4c3865244fc329825e57fe497c7abe00585454550e54844f3/onnxmltools-1.0.0.0-py2.py3-none-any.whl (154kB)\n",
      "\u001b[K    100% |████████████████████████████████| 163kB 5.3MB/s ta 0:00:01\n",
      "\u001b[?25hRequirement already satisfied: numpy in /opt/conda/lib/python3.6/site-packages (from onnxmltools==1.0.0.0) (1.12.1)\n",
      "Requirement already satisfied: protobuf in /opt/conda/lib/python3.6/site-packages (from onnxmltools==1.0.0.0) (3.5.1)\n",
      "Requirement already satisfied: six>=1.9 in /opt/conda/lib/python3.6/site-packages (from protobuf->onnxmltools==1.0.0.0) (1.11.0)\n",
      "Requirement already satisfied: setuptools in /opt/conda/lib/python3.6/site-packages (from protobuf->onnxmltools==1.0.0.0) (38.4.0)\n",
      "Installing collected packages: onnxmltools\n",
      "Successfully installed onnxmltools-1.0.0.0\n",
      "Collecting coremltools==0.8\n",
      "\u001b[?25l  Downloading https://files.pythonhosted.org/packages/8f/ab/b4dea5ab2503f3e601052958985153cd41bd4f9a336fb74f6789151d976e/coremltools-0.8-py3.5-none-manylinux1_x86_64.whl (2.5MB)\n",
      "\u001b[K    100% |████████████████████████████████| 2.5MB 9.6MB/s eta 0:00:01    33% |██████████▋                     | 819kB 19.1MB/s eta 0:00:01\n",
      "\u001b[?25hRequirement already satisfied: protobuf>=3.1.0 in /opt/conda/lib/python3.6/site-packages (from coremltools==0.8) (3.5.1)\n",
      "Requirement already satisfied: numpy>=1.10.0 in /opt/conda/lib/python3.6/site-packages (from coremltools==0.8) (1.12.1)\n",
      "Collecting six==1.10.0 (from coremltools==0.8)\n",
      "  Downloading https://files.pythonhosted.org/packages/c8/0a/b6723e1bc4c516cb687841499455a8505b44607ab535be01091c0f24f079/six-1.10.0-py2.py3-none-any.whl\n",
      "Requirement already satisfied: setuptools in /opt/conda/lib/python3.6/site-packages (from protobuf>=3.1.0->coremltools==0.8) (38.4.0)\n",
      "\u001b[31mtensorflow 1.3.0 requires tensorflow-tensorboard<0.2.0,>=0.1.0, which is not installed.\u001b[0m\n",
      "\u001b[31mscikit-image 0.14.2 has requirement dask[array]>=1.0.0, but you'll have dask 0.16.1 which is incompatible.\u001b[0m\n",
      "\u001b[31mjupyterlab-server 1.0.0 has requirement jsonschema>=3.0.1, but you'll have jsonschema 2.6.0 which is incompatible.\u001b[0m\n",
      "\u001b[31mipywidgets 7.0.5 has requirement widgetsnbextension~=3.0.0, but you'll have widgetsnbextension 3.1.0 which is incompatible.\u001b[0m\n",
      "Installing collected packages: six, coremltools\n",
      "  Found existing installation: six 1.11.0\n",
      "    Uninstalling six-1.11.0:\n",
      "      Successfully uninstalled six-1.11.0\n",
      "Successfully installed coremltools-0.8 six-1.10.0\n"
     ]
    }
   ],
   "source": [
    "!pip install onnxmltools==1.0.0.0\n",
    "!pip install coremltools==0.8"
   ]
  },
  {
   "cell_type": "code",
   "execution_count": 3,
   "metadata": {
    "editable": true
   },
   "outputs": [],
   "source": [
    "import onnxmltools\n",
    "import coremltools"
   ]
  },
  {
   "cell_type": "markdown",
   "metadata": {
    "editable": true
   },
   "source": [
    "## Load a CoreML model"
   ]
  },
  {
   "cell_type": "code",
   "execution_count": 8,
   "metadata": {
    "editable": true
   },
   "outputs": [],
   "source": [
    "#coreml_model= coremltools.models.MLModel(\"TinyYOLO.mlmodel\")\n",
    "coreml_model = coremltools.utils.load_spec(\"TinyYOLO.mlmodel\")"
   ]
  },
  {
   "cell_type": "markdown",
   "metadata": {
    "editable": true,
    "toggleable": true,
    "ulab": {
     "buttons": {
      "ulab-button-toggle-328a6a9d": {
       "style": "primary"
      }
     }
    }
   },
   "source": [
    "```coreml_model = coremltools.utils.load_spec('TinyYOLO.mlmodel')```"
   ]
  },
  {
   "cell_type": "markdown",
   "metadata": {
    "editable": true
   },
   "source": [
    "## Convert from CoreML into ONNX"
   ]
  },
  {
   "cell_type": "code",
   "execution_count": 10,
   "metadata": {
    "editable": true
   },
   "outputs": [],
   "source": [
    "onnx_model = onnxmltools.convert_coreml(coreml_model,\"TinyYOLOv3\")"
   ]
  },
  {
   "cell_type": "markdown",
   "metadata": {
    "editable": true,
    "toggleable": true,
    "ulab": {
     "buttons": {
      "ulab-button-toggle-6c750160": {
       "style": "primary"
      }
     }
    }
   },
   "source": [
    "```onnx_model = onnxmltools.convert_coreml(coreml_model, 'TinyYOLOv2')```"
   ]
  },
  {
   "cell_type": "markdown",
   "metadata": {
    "editable": true
   },
   "source": [
    "## Save ONNX model"
   ]
  },
  {
   "cell_type": "code",
   "execution_count": 14,
   "metadata": {
    "editable": true
   },
   "outputs": [],
   "source": [
    "onnxmltools.utils.save_model(onnx_model,'tinyyolov3.onnx')"
   ]
  },
  {
   "cell_type": "markdown",
   "metadata": {
    "editable": true,
    "toggleable": true,
    "ulab": {
     "buttons": {
      "ulab-button-toggle-ecbd04dd": {
       "style": "primary"
      }
     }
    }
   },
   "source": [
    "```onnxmltools.utils.save_model(onnx_model, 'tinyyolov2.onnx')```"
   ]
  },
  {
   "cell_type": "markdown",
   "metadata": {
    "editable": true
   },
   "source": [
    "## Get the size"
   ]
  },
  {
   "cell_type": "code",
   "execution_count": 15,
   "metadata": {
    "editable": true
   },
   "outputs": [
    {
     "name": "stdout",
     "output_type": "stream",
     "text": [
      "63479044\n"
     ]
    }
   ],
   "source": [
    "import os\n",
    "print(os.path.getsize(\"tinyyolov3.onnx\"))"
   ]
  },
  {
   "cell_type": "markdown",
   "metadata": {
    "editable": true,
    "toggleable": true,
    "ulab": {
     "buttons": {
      "ulab-button-toggle-d4d273de": {
       "style": "primary"
      }
     }
    }
   },
   "source": [
    "```import os\n",
    "print(os.path.getsize('tinyyolov2.onnx'))```"
   ]
  }
 ],
 "metadata": {
  "kernelspec": {
   "display_name": "Python 3",
   "language": "python",
   "name": "python3"
  },
  "language_info": {
   "codemirror_mode": {
    "name": "ipython",
    "version": 3
   },
   "file_extension": ".py",
   "mimetype": "text/x-python",
   "name": "python",
   "nbconvert_exporter": "python",
   "pygments_lexer": "ipython3",
   "version": "3.6.3"
  }
 },
 "nbformat": 4,
 "nbformat_minor": 4
}
